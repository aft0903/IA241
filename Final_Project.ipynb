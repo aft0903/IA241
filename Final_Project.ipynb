{
 "cells": [
  {
   "cell_type": "markdown",
   "id": "829aca71",
   "metadata": {},
   "source": [
    "## Final Project "
   ]
  },
  {
   "cell_type": "markdown",
   "id": "5bc8cd38",
   "metadata": {},
   "source": [
    "By: Aileen Towner \n",
    "\n",
    "Email: towneraf@dukes.jmu.edu "
   ]
  },
  {
   "cell_type": "markdown",
   "id": "e6adf11d",
   "metadata": {},
   "source": [
    "COVID 19 is a newfound infectious resperatory disease that caused a global pandemic. This project seeks to visualize data from Taiwan- who effectively managed COVID19 in the last year. "
   ]
  },
  {
   "cell_type": "code",
   "execution_count": 2,
   "id": "3870de9e",
   "metadata": {},
   "outputs": [],
   "source": [
    "%matplotlib inline \n",
    "import pandas \n",
    "import matplotlib.pyplot as plt"
   ]
  },
  {
   "cell_type": "code",
   "execution_count": 29,
   "id": "dbc8c436",
   "metadata": {
    "scrolled": false
   },
   "outputs": [],
   "source": [
    "df = pandas.read_excel('s3://towner-ia241-2021spring/COVID-19-geographic-disbtribution-worldwide-2020-12-14.xls')\n"
   ]
  },
  {
   "cell_type": "markdown",
   "id": "77a9cd8c",
   "metadata": {},
   "source": [
    "Method: This reads COVID data into the file and gives readers a snapshot of data. "
   ]
  },
  {
   "cell_type": "markdown",
   "id": "84f390b6",
   "metadata": {},
   "source": [
    "Method: The data is from [European Centre for Disease Prevention and Control](https://www.ecdc.europa.eu/en/publications-data/download-todays-data-geographic-distribution-covid-19-cases-worldwide)"
   ]
  },
  {
   "cell_type": "markdown",
   "id": "b200a849",
   "metadata": {},
   "source": [
    "![taiwan_image](https://cdn.britannica.com/62/4562-004-BBCF13EC/Flag-Taiwan.jpg)"
   ]
  },
  {
   "cell_type": "markdown",
   "id": "65d01538",
   "metadata": {},
   "source": [
    "## Number of Cases Related to Number of Deaths \n",
    "\n"
   ]
  },
  {
   "cell_type": "code",
   "execution_count": 16,
   "id": "aafdd46a",
   "metadata": {
    "scrolled": true
   },
   "outputs": [
    {
     "data": {
      "text/html": [
       "<div>\n",
       "<style scoped>\n",
       "    .dataframe tbody tr th:only-of-type {\n",
       "        vertical-align: middle;\n",
       "    }\n",
       "\n",
       "    .dataframe tbody tr th {\n",
       "        vertical-align: top;\n",
       "    }\n",
       "\n",
       "    .dataframe thead th {\n",
       "        text-align: right;\n",
       "    }\n",
       "</style>\n",
       "<table border=\"1\" class=\"dataframe\">\n",
       "  <thead>\n",
       "    <tr style=\"text-align: right;\">\n",
       "      <th></th>\n",
       "      <th>dateRep</th>\n",
       "      <th>day</th>\n",
       "      <th>month</th>\n",
       "      <th>year</th>\n",
       "      <th>cases</th>\n",
       "      <th>deaths</th>\n",
       "      <th>countriesAndTerritories</th>\n",
       "      <th>geoId</th>\n",
       "      <th>countryterritoryCode</th>\n",
       "      <th>popData2019</th>\n",
       "      <th>continentExp</th>\n",
       "      <th>Cumulative_number_for_14_days_of_COVID-19_cases_per_100000</th>\n",
       "    </tr>\n",
       "  </thead>\n",
       "  <tbody>\n",
       "    <tr>\n",
       "      <th>54926</th>\n",
       "      <td>2020-12-14</td>\n",
       "      <td>14</td>\n",
       "      <td>12</td>\n",
       "      <td>2020</td>\n",
       "      <td>4</td>\n",
       "      <td>0</td>\n",
       "      <td>Taiwan</td>\n",
       "      <td>TW</td>\n",
       "      <td>CNG1925</td>\n",
       "      <td>23773881.0</td>\n",
       "      <td>Asia</td>\n",
       "      <td>0.273409</td>\n",
       "    </tr>\n",
       "    <tr>\n",
       "      <th>54927</th>\n",
       "      <td>2020-12-13</td>\n",
       "      <td>13</td>\n",
       "      <td>12</td>\n",
       "      <td>2020</td>\n",
       "      <td>3</td>\n",
       "      <td>0</td>\n",
       "      <td>Taiwan</td>\n",
       "      <td>TW</td>\n",
       "      <td>CNG1925</td>\n",
       "      <td>23773881.0</td>\n",
       "      <td>Asia</td>\n",
       "      <td>0.357535</td>\n",
       "    </tr>\n",
       "    <tr>\n",
       "      <th>54928</th>\n",
       "      <td>2020-12-12</td>\n",
       "      <td>12</td>\n",
       "      <td>12</td>\n",
       "      <td>2020</td>\n",
       "      <td>8</td>\n",
       "      <td>0</td>\n",
       "      <td>Taiwan</td>\n",
       "      <td>TW</td>\n",
       "      <td>CNG1925</td>\n",
       "      <td>23773881.0</td>\n",
       "      <td>Asia</td>\n",
       "      <td>0.357535</td>\n",
       "    </tr>\n",
       "    <tr>\n",
       "      <th>54929</th>\n",
       "      <td>2020-12-11</td>\n",
       "      <td>11</td>\n",
       "      <td>12</td>\n",
       "      <td>2020</td>\n",
       "      <td>1</td>\n",
       "      <td>0</td>\n",
       "      <td>Taiwan</td>\n",
       "      <td>TW</td>\n",
       "      <td>CNG1925</td>\n",
       "      <td>23773881.0</td>\n",
       "      <td>Asia</td>\n",
       "      <td>0.361742</td>\n",
       "    </tr>\n",
       "    <tr>\n",
       "      <th>54930</th>\n",
       "      <td>2020-12-10</td>\n",
       "      <td>10</td>\n",
       "      <td>12</td>\n",
       "      <td>2020</td>\n",
       "      <td>4</td>\n",
       "      <td>0</td>\n",
       "      <td>Taiwan</td>\n",
       "      <td>TW</td>\n",
       "      <td>CNG1925</td>\n",
       "      <td>23773881.0</td>\n",
       "      <td>Asia</td>\n",
       "      <td>0.416423</td>\n",
       "    </tr>\n",
       "    <tr>\n",
       "      <th>...</th>\n",
       "      <td>...</td>\n",
       "      <td>...</td>\n",
       "      <td>...</td>\n",
       "      <td>...</td>\n",
       "      <td>...</td>\n",
       "      <td>...</td>\n",
       "      <td>...</td>\n",
       "      <td>...</td>\n",
       "      <td>...</td>\n",
       "      <td>...</td>\n",
       "      <td>...</td>\n",
       "      <td>...</td>\n",
       "    </tr>\n",
       "    <tr>\n",
       "      <th>55271</th>\n",
       "      <td>2020-01-04</td>\n",
       "      <td>4</td>\n",
       "      <td>1</td>\n",
       "      <td>2020</td>\n",
       "      <td>0</td>\n",
       "      <td>0</td>\n",
       "      <td>Taiwan</td>\n",
       "      <td>TW</td>\n",
       "      <td>CNG1925</td>\n",
       "      <td>23773881.0</td>\n",
       "      <td>Asia</td>\n",
       "      <td>NaN</td>\n",
       "    </tr>\n",
       "    <tr>\n",
       "      <th>55272</th>\n",
       "      <td>2020-01-03</td>\n",
       "      <td>3</td>\n",
       "      <td>1</td>\n",
       "      <td>2020</td>\n",
       "      <td>0</td>\n",
       "      <td>0</td>\n",
       "      <td>Taiwan</td>\n",
       "      <td>TW</td>\n",
       "      <td>CNG1925</td>\n",
       "      <td>23773881.0</td>\n",
       "      <td>Asia</td>\n",
       "      <td>NaN</td>\n",
       "    </tr>\n",
       "    <tr>\n",
       "      <th>55273</th>\n",
       "      <td>2020-01-02</td>\n",
       "      <td>2</td>\n",
       "      <td>1</td>\n",
       "      <td>2020</td>\n",
       "      <td>0</td>\n",
       "      <td>0</td>\n",
       "      <td>Taiwan</td>\n",
       "      <td>TW</td>\n",
       "      <td>CNG1925</td>\n",
       "      <td>23773881.0</td>\n",
       "      <td>Asia</td>\n",
       "      <td>NaN</td>\n",
       "    </tr>\n",
       "    <tr>\n",
       "      <th>55274</th>\n",
       "      <td>2020-01-01</td>\n",
       "      <td>1</td>\n",
       "      <td>1</td>\n",
       "      <td>2020</td>\n",
       "      <td>0</td>\n",
       "      <td>0</td>\n",
       "      <td>Taiwan</td>\n",
       "      <td>TW</td>\n",
       "      <td>CNG1925</td>\n",
       "      <td>23773881.0</td>\n",
       "      <td>Asia</td>\n",
       "      <td>NaN</td>\n",
       "    </tr>\n",
       "    <tr>\n",
       "      <th>55275</th>\n",
       "      <td>2019-12-31</td>\n",
       "      <td>31</td>\n",
       "      <td>12</td>\n",
       "      <td>2019</td>\n",
       "      <td>0</td>\n",
       "      <td>0</td>\n",
       "      <td>Taiwan</td>\n",
       "      <td>TW</td>\n",
       "      <td>CNG1925</td>\n",
       "      <td>23773881.0</td>\n",
       "      <td>Asia</td>\n",
       "      <td>NaN</td>\n",
       "    </tr>\n",
       "  </tbody>\n",
       "</table>\n",
       "<p>350 rows × 12 columns</p>\n",
       "</div>"
      ],
      "text/plain": [
       "         dateRep  day  month  year  cases  deaths countriesAndTerritories  \\\n",
       "54926 2020-12-14   14     12  2020      4       0                  Taiwan   \n",
       "54927 2020-12-13   13     12  2020      3       0                  Taiwan   \n",
       "54928 2020-12-12   12     12  2020      8       0                  Taiwan   \n",
       "54929 2020-12-11   11     12  2020      1       0                  Taiwan   \n",
       "54930 2020-12-10   10     12  2020      4       0                  Taiwan   \n",
       "...          ...  ...    ...   ...    ...     ...                     ...   \n",
       "55271 2020-01-04    4      1  2020      0       0                  Taiwan   \n",
       "55272 2020-01-03    3      1  2020      0       0                  Taiwan   \n",
       "55273 2020-01-02    2      1  2020      0       0                  Taiwan   \n",
       "55274 2020-01-01    1      1  2020      0       0                  Taiwan   \n",
       "55275 2019-12-31   31     12  2019      0       0                  Taiwan   \n",
       "\n",
       "      geoId countryterritoryCode  popData2019 continentExp  \\\n",
       "54926    TW              CNG1925   23773881.0         Asia   \n",
       "54927    TW              CNG1925   23773881.0         Asia   \n",
       "54928    TW              CNG1925   23773881.0         Asia   \n",
       "54929    TW              CNG1925   23773881.0         Asia   \n",
       "54930    TW              CNG1925   23773881.0         Asia   \n",
       "...     ...                  ...          ...          ...   \n",
       "55271    TW              CNG1925   23773881.0         Asia   \n",
       "55272    TW              CNG1925   23773881.0         Asia   \n",
       "55273    TW              CNG1925   23773881.0         Asia   \n",
       "55274    TW              CNG1925   23773881.0         Asia   \n",
       "55275    TW              CNG1925   23773881.0         Asia   \n",
       "\n",
       "       Cumulative_number_for_14_days_of_COVID-19_cases_per_100000  \n",
       "54926                                           0.273409           \n",
       "54927                                           0.357535           \n",
       "54928                                           0.357535           \n",
       "54929                                           0.361742           \n",
       "54930                                           0.416423           \n",
       "...                                                  ...           \n",
       "55271                                                NaN           \n",
       "55272                                                NaN           \n",
       "55273                                                NaN           \n",
       "55274                                                NaN           \n",
       "55275                                                NaN           \n",
       "\n",
       "[350 rows x 12 columns]"
      ]
     },
     "execution_count": 16,
     "metadata": {},
     "output_type": "execute_result"
    }
   ],
   "source": [
    " taiwan_data = df.loc[ df['countriesAndTerritories']=='Taiwan']\n",
    "taiwan_data[:]\n"
   ]
  },
  {
   "cell_type": "markdown",
   "id": "a17fbe0f",
   "metadata": {},
   "source": [
    "I sorted the data for Taiwan out of all the other countries and terretories."
   ]
  },
  {
   "cell_type": "code",
   "execution_count": 33,
   "id": "af217982",
   "metadata": {},
   "outputs": [
    {
     "data": {
      "text/plain": [
       "<AxesSubplot:xlabel='cases', ylabel='deaths'>"
      ]
     },
     "execution_count": 33,
     "metadata": {},
     "output_type": "execute_result"
    },
    {
     "data": {
      "image/png": "[encoded data removed]",
      "text/plain": [
       "<Figure size 432x288 with 2 Axes>"
      ]
     },
     "metadata": {
      "needs_background": "light"
     },
     "output_type": "display_data"
    }
   ],
   "source": [
    "taiwan_data.plot.scatter(x='cases',y='deaths',c='month')"
   ]
  },
  {
   "cell_type": "markdown",
   "id": "98ca6fa3",
   "metadata": {},
   "source": [
    "Description: This graph shows the relationships between deaths and cases in Taiwan in 2020 by month. \n",
    "\n",
    "Method:This was plotted with the scatter plot function. \n"
   ]
  },
  {
   "cell_type": "markdown",
   "id": "f908bb9e",
   "metadata": {},
   "source": [
    "## Deaths by Months "
   ]
  },
  {
   "cell_type": "code",
   "execution_count": 18,
   "id": "7e3e8dc0",
   "metadata": {},
   "outputs": [
    {
     "data": {
      "text/plain": [
       "month\n",
       "1     0\n",
       "2     1\n",
       "3     4\n",
       "4     1\n",
       "5     1\n",
       "6     0\n",
       "7     0\n",
       "8     0\n",
       "9     0\n",
       "10    0\n",
       "11    0\n",
       "12    0\n",
       "Name: deaths, dtype: int64"
      ]
     },
     "execution_count": 18,
     "metadata": {},
     "output_type": "execute_result"
    }
   ],
   "source": [
    "month_deaths = taiwan_data.groupby('month').sum()['deaths']\n",
    "month_deaths [:]"
   ]
  },
  {
   "cell_type": "raw",
   "id": "784733ca",
   "metadata": {},
   "source": []
  },
  {
   "cell_type": "markdown",
   "id": "594e48a2",
   "metadata": {},
   "source": [
    "Description: This shows data sorted deaths per month. Month in the right column, deaths in the left column. \n",
    "\n",
    "Method: Using the .groupby function, I grouped by month and took a sum of the death per each month with the .sum function. I also declared the month_deaths variable - from there I used  used .plot to graph the relationshop deaths and months of the year. "
   ]
  },
  {
   "cell_type": "code",
   "execution_count": 19,
   "id": "bf3bbe4d",
   "metadata": {},
   "outputs": [
    {
     "data": {
      "text/plain": [
       "<AxesSubplot:xlabel='month'>"
      ]
     },
     "execution_count": 19,
     "metadata": {},
     "output_type": "execute_result"
    },
    {
     "data": {
      "image/png": "[encoded data removed]",
      "text/plain": [
       "<Figure size 432x288 with 1 Axes>"
      ]
     },
     "metadata": {
      "needs_background": "light"
     },
     "output_type": "display_data"
    }
   ],
   "source": [
    "month_deaths.plot.bar()"
   ]
  },
  {
   "cell_type": "markdown",
   "id": "83945a63",
   "metadata": {},
   "source": [
    "## Total Number of Deaths in 2020 "
   ]
  },
  {
   "cell_type": "code",
   "execution_count": 30,
   "id": "eb55b3c2",
   "metadata": {
    "scrolled": true
   },
   "outputs": [
    {
     "data": {
      "text/html": [
       "<div>\n",
       "<style scoped>\n",
       "    .dataframe tbody tr th:only-of-type {\n",
       "        vertical-align: middle;\n",
       "    }\n",
       "\n",
       "    .dataframe tbody tr th {\n",
       "        vertical-align: top;\n",
       "    }\n",
       "\n",
       "    .dataframe thead th {\n",
       "        text-align: right;\n",
       "    }\n",
       "</style>\n",
       "<table border=\"1\" class=\"dataframe\">\n",
       "  <thead>\n",
       "    <tr style=\"text-align: right;\">\n",
       "      <th></th>\n",
       "      <th>dateRep</th>\n",
       "      <th>day</th>\n",
       "      <th>month</th>\n",
       "      <th>year</th>\n",
       "      <th>cases</th>\n",
       "      <th>deaths</th>\n",
       "      <th>countriesAndTerritories</th>\n",
       "      <th>geoId</th>\n",
       "      <th>countryterritoryCode</th>\n",
       "      <th>popData2019</th>\n",
       "      <th>continentExp</th>\n",
       "      <th>Cumulative_number_for_14_days_of_COVID-19_cases_per_100000</th>\n",
       "    </tr>\n",
       "  </thead>\n",
       "  <tbody>\n",
       "    <tr>\n",
       "      <th>54926</th>\n",
       "      <td>2020-12-14</td>\n",
       "      <td>14</td>\n",
       "      <td>12</td>\n",
       "      <td>2020</td>\n",
       "      <td>4</td>\n",
       "      <td>0</td>\n",
       "      <td>Taiwan</td>\n",
       "      <td>TW</td>\n",
       "      <td>CNG1925</td>\n",
       "      <td>23773881.0</td>\n",
       "      <td>Asia</td>\n",
       "      <td>0.273409</td>\n",
       "    </tr>\n",
       "    <tr>\n",
       "      <th>54927</th>\n",
       "      <td>2020-12-13</td>\n",
       "      <td>13</td>\n",
       "      <td>12</td>\n",
       "      <td>2020</td>\n",
       "      <td>3</td>\n",
       "      <td>0</td>\n",
       "      <td>Taiwan</td>\n",
       "      <td>TW</td>\n",
       "      <td>CNG1925</td>\n",
       "      <td>23773881.0</td>\n",
       "      <td>Asia</td>\n",
       "      <td>0.357535</td>\n",
       "    </tr>\n",
       "    <tr>\n",
       "      <th>54928</th>\n",
       "      <td>2020-12-12</td>\n",
       "      <td>12</td>\n",
       "      <td>12</td>\n",
       "      <td>2020</td>\n",
       "      <td>8</td>\n",
       "      <td>0</td>\n",
       "      <td>Taiwan</td>\n",
       "      <td>TW</td>\n",
       "      <td>CNG1925</td>\n",
       "      <td>23773881.0</td>\n",
       "      <td>Asia</td>\n",
       "      <td>0.357535</td>\n",
       "    </tr>\n",
       "    <tr>\n",
       "      <th>54929</th>\n",
       "      <td>2020-12-11</td>\n",
       "      <td>11</td>\n",
       "      <td>12</td>\n",
       "      <td>2020</td>\n",
       "      <td>1</td>\n",
       "      <td>0</td>\n",
       "      <td>Taiwan</td>\n",
       "      <td>TW</td>\n",
       "      <td>CNG1925</td>\n",
       "      <td>23773881.0</td>\n",
       "      <td>Asia</td>\n",
       "      <td>0.361742</td>\n",
       "    </tr>\n",
       "    <tr>\n",
       "      <th>54930</th>\n",
       "      <td>2020-12-10</td>\n",
       "      <td>10</td>\n",
       "      <td>12</td>\n",
       "      <td>2020</td>\n",
       "      <td>4</td>\n",
       "      <td>0</td>\n",
       "      <td>Taiwan</td>\n",
       "      <td>TW</td>\n",
       "      <td>CNG1925</td>\n",
       "      <td>23773881.0</td>\n",
       "      <td>Asia</td>\n",
       "      <td>0.416423</td>\n",
       "    </tr>\n",
       "    <tr>\n",
       "      <th>...</th>\n",
       "      <td>...</td>\n",
       "      <td>...</td>\n",
       "      <td>...</td>\n",
       "      <td>...</td>\n",
       "      <td>...</td>\n",
       "      <td>...</td>\n",
       "      <td>...</td>\n",
       "      <td>...</td>\n",
       "      <td>...</td>\n",
       "      <td>...</td>\n",
       "      <td>...</td>\n",
       "      <td>...</td>\n",
       "    </tr>\n",
       "    <tr>\n",
       "      <th>55271</th>\n",
       "      <td>2020-01-04</td>\n",
       "      <td>4</td>\n",
       "      <td>1</td>\n",
       "      <td>2020</td>\n",
       "      <td>0</td>\n",
       "      <td>0</td>\n",
       "      <td>Taiwan</td>\n",
       "      <td>TW</td>\n",
       "      <td>CNG1925</td>\n",
       "      <td>23773881.0</td>\n",
       "      <td>Asia</td>\n",
       "      <td>NaN</td>\n",
       "    </tr>\n",
       "    <tr>\n",
       "      <th>55272</th>\n",
       "      <td>2020-01-03</td>\n",
       "      <td>3</td>\n",
       "      <td>1</td>\n",
       "      <td>2020</td>\n",
       "      <td>0</td>\n",
       "      <td>0</td>\n",
       "      <td>Taiwan</td>\n",
       "      <td>TW</td>\n",
       "      <td>CNG1925</td>\n",
       "      <td>23773881.0</td>\n",
       "      <td>Asia</td>\n",
       "      <td>NaN</td>\n",
       "    </tr>\n",
       "    <tr>\n",
       "      <th>55273</th>\n",
       "      <td>2020-01-02</td>\n",
       "      <td>2</td>\n",
       "      <td>1</td>\n",
       "      <td>2020</td>\n",
       "      <td>0</td>\n",
       "      <td>0</td>\n",
       "      <td>Taiwan</td>\n",
       "      <td>TW</td>\n",
       "      <td>CNG1925</td>\n",
       "      <td>23773881.0</td>\n",
       "      <td>Asia</td>\n",
       "      <td>NaN</td>\n",
       "    </tr>\n",
       "    <tr>\n",
       "      <th>55274</th>\n",
       "      <td>2020-01-01</td>\n",
       "      <td>1</td>\n",
       "      <td>1</td>\n",
       "      <td>2020</td>\n",
       "      <td>0</td>\n",
       "      <td>0</td>\n",
       "      <td>Taiwan</td>\n",
       "      <td>TW</td>\n",
       "      <td>CNG1925</td>\n",
       "      <td>23773881.0</td>\n",
       "      <td>Asia</td>\n",
       "      <td>NaN</td>\n",
       "    </tr>\n",
       "    <tr>\n",
       "      <th>55275</th>\n",
       "      <td>2019-12-31</td>\n",
       "      <td>31</td>\n",
       "      <td>12</td>\n",
       "      <td>2019</td>\n",
       "      <td>0</td>\n",
       "      <td>0</td>\n",
       "      <td>Taiwan</td>\n",
       "      <td>TW</td>\n",
       "      <td>CNG1925</td>\n",
       "      <td>23773881.0</td>\n",
       "      <td>Asia</td>\n",
       "      <td>NaN</td>\n",
       "    </tr>\n",
       "  </tbody>\n",
       "</table>\n",
       "<p>350 rows × 12 columns</p>\n",
       "</div>"
      ],
      "text/plain": [
       "         dateRep  day  month  year  cases  deaths countriesAndTerritories  \\\n",
       "54926 2020-12-14   14     12  2020      4       0                  Taiwan   \n",
       "54927 2020-12-13   13     12  2020      3       0                  Taiwan   \n",
       "54928 2020-12-12   12     12  2020      8       0                  Taiwan   \n",
       "54929 2020-12-11   11     12  2020      1       0                  Taiwan   \n",
       "54930 2020-12-10   10     12  2020      4       0                  Taiwan   \n",
       "...          ...  ...    ...   ...    ...     ...                     ...   \n",
       "55271 2020-01-04    4      1  2020      0       0                  Taiwan   \n",
       "55272 2020-01-03    3      1  2020      0       0                  Taiwan   \n",
       "55273 2020-01-02    2      1  2020      0       0                  Taiwan   \n",
       "55274 2020-01-01    1      1  2020      0       0                  Taiwan   \n",
       "55275 2019-12-31   31     12  2019      0       0                  Taiwan   \n",
       "\n",
       "      geoId countryterritoryCode  popData2019 continentExp  \\\n",
       "54926    TW              CNG1925   23773881.0         Asia   \n",
       "54927    TW              CNG1925   23773881.0         Asia   \n",
       "54928    TW              CNG1925   23773881.0         Asia   \n",
       "54929    TW              CNG1925   23773881.0         Asia   \n",
       "54930    TW              CNG1925   23773881.0         Asia   \n",
       "...     ...                  ...          ...          ...   \n",
       "55271    TW              CNG1925   23773881.0         Asia   \n",
       "55272    TW              CNG1925   23773881.0         Asia   \n",
       "55273    TW              CNG1925   23773881.0         Asia   \n",
       "55274    TW              CNG1925   23773881.0         Asia   \n",
       "55275    TW              CNG1925   23773881.0         Asia   \n",
       "\n",
       "       Cumulative_number_for_14_days_of_COVID-19_cases_per_100000  \n",
       "54926                                           0.273409           \n",
       "54927                                           0.357535           \n",
       "54928                                           0.357535           \n",
       "54929                                           0.361742           \n",
       "54930                                           0.416423           \n",
       "...                                                  ...           \n",
       "55271                                                NaN           \n",
       "55272                                                NaN           \n",
       "55273                                                NaN           \n",
       "55274                                                NaN           \n",
       "55275                                                NaN           \n",
       "\n",
       "[350 rows x 12 columns]"
      ]
     },
     "execution_count": 30,
     "metadata": {},
     "output_type": "execute_result"
    }
   ],
   "source": [
    "taiwan_data [:]"
   ]
  },
  {
   "cell_type": "markdown",
   "id": "30580255",
   "metadata": {},
   "source": [
    "Method: First I showed the data for Taiwan. Then I summed the data shown by the 'death' label and printed it to show total nuber of deaths in 2020. I didn't have to set limits for time since all of the data was in 2020.\n",
    "\n",
    "Description: This shows that there was a total of 7 deaths."
   ]
  },
  {
   "cell_type": "code",
   "execution_count": 27,
   "id": "62534cb8",
   "metadata": {},
   "outputs": [
    {
     "name": "stdout",
     "output_type": "stream",
     "text": [
      "7\n"
     ]
    }
   ],
   "source": [
    "sum_deaths = taiwan_data.sum()['deaths']\n",
    "print (sum_deaths)"
   ]
  },
  {
   "cell_type": "markdown",
   "id": "1d34bd29",
   "metadata": {},
   "source": [
    "## Conclusion "
   ]
  },
  {
   "cell_type": "markdown",
   "id": "0829e814",
   "metadata": {},
   "source": [
    "Research Questions & Conclusions: \n",
    "    \n",
    "1. What is the relationship between deaths and cases?\n",
    "There is no clear relationship between cases and deaths because both deaths and cases remained low. As cases increased, deaths did not significantly increase.\n",
    "\n",
    "2. How many deaths have been confirmed as of December 2020? \n",
    "There were 7 total Deaths \n",
    "\n",
    "3. Which months in 2020 had the most deaths?\n",
    "March had the most deaths for Taiwan with 4 deaths. \n",
    "\n",
    "Cumulatively, the data highlights how Taiwan has effectively managed COVID 19 and has kept cases and deaths low. \n",
    "Limitations for this project included lack of expertise on data analysis and lack of updated data as of 2021. Further, I would seek to provide infection rate and death rate in the future.\n",
    "\n",
    "\n"
   ]
  },
  {
   "cell_type": "markdown",
   "id": "243b7b38",
   "metadata": {},
   "source": []
  },
  {
   "cell_type": "code",
   "execution_count": null,
   "id": "b69364dd",
   "metadata": {},
   "outputs": [],
   "source": []
  }
 ],
 "metadata": {
  "kernelspec": {
   "display_name": "conda_python3",
   "language": "python",
   "name": "conda_python3"
  },
  "language_info": {
   "codemirror_mode": {
    "name": "ipython",
    "version": 3
   },
   "file_extension": ".py",
   "mimetype": "text/x-python",
   "name": "python",
   "nbconvert_exporter": "python",
   "pygments_lexer": "ipython3",
   "version": "3.6.13"
  }
 },
 "nbformat": 4,
 "nbformat_minor": 5
}
